{
 "cells": [
  {
   "cell_type": "markdown",
   "metadata": {},
   "source": [
    "## Work\n",
    "1. 請嘗試將 preproc_x 替換成以每筆資料的 min/max 進行標準化至 -1 ~ 1 間，再進行訓練\n",
    "2. 請嘗試將 mlp 疊更深 (e.g 5~10 層)，進行訓練後觀察 learning curve 的走勢\n",
    "3. (optional) 請改用 GPU 進行訓練 (如果你有 GPU 的話)，比較使用 CPU 與 GPU 的訓練速度"
   ]
  },
  {
   "cell_type": "code",
   "execution_count": 27,
   "metadata": {},
   "outputs": [
    {
     "data": {
      "text/plain": [
       "'\\nYour code here (optional)\\n確認硬體資源\\n'"
      ]
     },
     "execution_count": 27,
     "metadata": {},
     "output_type": "execute_result"
    }
   ],
   "source": [
    "## \n",
    "\"\"\"\n",
    "Your code here (optional)\n",
    "確認硬體資源\n",
    "\"\"\""
   ]
  },
  {
   "cell_type": "code",
   "execution_count": 28,
   "metadata": {},
   "outputs": [],
   "source": [
    "import os\n",
    "import keras\n",
    "\n",
    "# 請嘗試設定 GPU：os.environ\n",
    "\n",
    "# 本範例不需使用 GPU, 將 GPU 設定為 \"無\"\n",
    "os.environ[\"CUDA_VISIBLE_DEVICES\"] = \"\""
   ]
  },
  {
   "cell_type": "code",
   "execution_count": 29,
   "metadata": {},
   "outputs": [],
   "source": [
    "train, test = keras.datasets.cifar10.load_data()"
   ]
  },
  {
   "cell_type": "code",
   "execution_count": 30,
   "metadata": {},
   "outputs": [],
   "source": [
    "## 資料前處理\n",
    "\"\"\"\n",
    "Your code here\n",
    "\"\"\"\n",
    "def preproc_x(x, flatten=True):\n",
    "    x = x / 255.\n",
    "    if flatten:\n",
    "        x = x.reshape((len(x), -1))\n",
    "    return x\n",
    "\n",
    "def preproc_y(y, num_classes=10):\n",
    "    if y.shape[-1] == 1:\n",
    "        y = keras.utils.to_categorical(y, num_classes)\n",
    "    return y"
   ]
  },
  {
   "cell_type": "code",
   "execution_count": 31,
   "metadata": {},
   "outputs": [],
   "source": [
    "x_train, y_train = train\n",
    "x_test, y_test = test\n",
    "\n",
    "# Preproc the inputs\n",
    "x_train = preproc_x(x_train)\n",
    "x_test = preproc_x(x_test)\n",
    "\n",
    "# Preprc the outputs\n",
    "y_train = preproc_y(y_train)\n",
    "y_test = preproc_y(y_test)"
   ]
  },
  {
   "cell_type": "code",
   "execution_count": 32,
   "metadata": {},
   "outputs": [],
   "source": [
    "\"\"\"Code Here\n",
    "建立你的神經網路\n",
    "\"\"\"\n",
    "def build_mlp():\n",
    "    input_layer = keras.layers.Input([x_train.shape[-1]])\n",
    "    x = keras.layers.Dense(units=1024, activation=\"relu\")(input_layer)\n",
    "    x = keras.layers.Dense(units=512, activation=\"relu\")(x)\n",
    "    x = keras.layers.Dense(units=256, activation=\"relu\")(x)\n",
    "    x = keras.layers.Dense(units=128, activation=\"relu\")(x)\n",
    "    x = keras.layers.Dense(units=64, activation=\"relu\")(x)\n",
    "    out = keras.layers.Dense(units=10, activation=\"softmax\")(x)\n",
    "    \n",
    "    model = keras.models.Model(inputs=[input_layer], outputs=[out])\n",
    "    return model"
   ]
  },
  {
   "cell_type": "code",
   "execution_count": 34,
   "metadata": {},
   "outputs": [
    {
     "name": "stdout",
     "output_type": "stream",
     "text": [
      "_________________________________________________________________\n",
      "Layer (type)                 Output Shape              Param #   \n",
      "=================================================================\n",
      "input_1 (InputLayer)         (None, 3072)              0         \n",
      "_________________________________________________________________\n",
      "dense_1 (Dense)              (None, 1024)              3146752   \n",
      "_________________________________________________________________\n",
      "dense_2 (Dense)              (None, 512)               524800    \n",
      "_________________________________________________________________\n",
      "dense_3 (Dense)              (None, 256)               131328    \n",
      "_________________________________________________________________\n",
      "dense_4 (Dense)              (None, 128)               32896     \n",
      "_________________________________________________________________\n",
      "dense_5 (Dense)              (None, 64)                8256      \n",
      "_________________________________________________________________\n",
      "dense_6 (Dense)              (None, 10)                650       \n",
      "=================================================================\n",
      "Total params: 3,844,682\n",
      "Trainable params: 3,844,682\n",
      "Non-trainable params: 0\n",
      "_________________________________________________________________\n"
     ]
    }
   ],
   "source": [
    "model = build_mlp()\n",
    "model.summary()\n",
    "## 超參數設定\n",
    "LEARNING_RATE = 0.001\n",
    "EPOCHS = 100\n",
    "BATCH_SIZE = 256"
   ]
  },
  {
   "cell_type": "code",
   "execution_count": 35,
   "metadata": {},
   "outputs": [],
   "source": [
    "optimizer = keras.optimizers.Adam(lr=LEARNING_RATE)\n",
    "model.compile(loss=\"categorical_crossentropy\", metrics=[\"accuracy\"], optimizer=optimizer)"
   ]
  },
  {
   "cell_type": "code",
   "execution_count": 36,
   "metadata": {},
   "outputs": [
    {
     "name": "stdout",
     "output_type": "stream",
     "text": [
      "WARNING:tensorflow:From D:\\Anaconda3\\lib\\site-packages\\tensorflow\\python\\ops\\math_ops.py:3066: to_int32 (from tensorflow.python.ops.math_ops) is deprecated and will be removed in a future version.\n",
      "Instructions for updating:\n",
      "Use tf.cast instead.\n",
      "Train on 50000 samples, validate on 10000 samples\n",
      "Epoch 1/100\n",
      "50000/50000 [==============================] - 14s 286us/step - loss: 1.9689 - acc: 0.2777 - val_loss: 1.7514 - val_acc: 0.3718\n",
      "Epoch 2/100\n",
      "50000/50000 [==============================] - 14s 282us/step - loss: 1.7238 - acc: 0.3799 - val_loss: 1.6517 - val_acc: 0.4137\n",
      "Epoch 3/100\n",
      "50000/50000 [==============================] - 14s 283us/step - loss: 1.6228 - acc: 0.4194 - val_loss: 1.5524 - val_acc: 0.4423\n",
      "Epoch 4/100\n",
      "50000/50000 [==============================] - 15s 293us/step - loss: 1.5648 - acc: 0.4409 - val_loss: 1.5427 - val_acc: 0.4431\n",
      "Epoch 5/100\n",
      "50000/50000 [==============================] - 14s 288us/step - loss: 1.5133 - acc: 0.4563 - val_loss: 1.4893 - val_acc: 0.4704\n",
      "Epoch 6/100\n",
      "50000/50000 [==============================] - 15s 295us/step - loss: 1.4685 - acc: 0.4761 - val_loss: 1.4859 - val_acc: 0.4691\n",
      "Epoch 7/100\n",
      "50000/50000 [==============================] - 15s 300us/step - loss: 1.4344 - acc: 0.4887 - val_loss: 1.4796 - val_acc: 0.4715\n",
      "Epoch 8/100\n",
      "50000/50000 [==============================] - 15s 298us/step - loss: 1.4045 - acc: 0.4961 - val_loss: 1.4508 - val_acc: 0.4815\n",
      "Epoch 9/100\n",
      "50000/50000 [==============================] - 15s 296us/step - loss: 1.3776 - acc: 0.5080 - val_loss: 1.4312 - val_acc: 0.4933\n",
      "Epoch 10/100\n",
      "50000/50000 [==============================] - 14s 280us/step - loss: 1.3435 - acc: 0.5186 - val_loss: 1.4167 - val_acc: 0.4924\n",
      "Epoch 11/100\n",
      "50000/50000 [==============================] - 14s 284us/step - loss: 1.3165 - acc: 0.5301 - val_loss: 1.4474 - val_acc: 0.4929\n",
      "Epoch 12/100\n",
      "50000/50000 [==============================] - 14s 280us/step - loss: 1.2849 - acc: 0.5403 - val_loss: 1.3820 - val_acc: 0.5148\n",
      "Epoch 13/100\n",
      "50000/50000 [==============================] - 15s 297us/step - loss: 1.2561 - acc: 0.5498 - val_loss: 1.4628 - val_acc: 0.4873\n",
      "Epoch 14/100\n",
      "50000/50000 [==============================] - 14s 290us/step - loss: 1.2290 - acc: 0.5603 - val_loss: 1.3843 - val_acc: 0.5097\n",
      "Epoch 15/100\n",
      "50000/50000 [==============================] - 15s 293us/step - loss: 1.2048 - acc: 0.5703 - val_loss: 1.3818 - val_acc: 0.5161\n",
      "Epoch 16/100\n",
      "50000/50000 [==============================] - 14s 285us/step - loss: 1.1861 - acc: 0.5743 - val_loss: 1.3724 - val_acc: 0.5197\n",
      "Epoch 17/100\n",
      "50000/50000 [==============================] - 15s 293us/step - loss: 1.1465 - acc: 0.5883 - val_loss: 1.3709 - val_acc: 0.5232\n",
      "Epoch 18/100\n",
      "50000/50000 [==============================] - 15s 291us/step - loss: 1.1197 - acc: 0.5983 - val_loss: 1.3608 - val_acc: 0.5246\n",
      "Epoch 19/100\n",
      "50000/50000 [==============================] - 16s 317us/step - loss: 1.0974 - acc: 0.6097 - val_loss: 1.3710 - val_acc: 0.5273\n",
      "Epoch 20/100\n",
      "50000/50000 [==============================] - 16s 317us/step - loss: 1.0718 - acc: 0.6164 - val_loss: 1.3653 - val_acc: 0.5350\n",
      "Epoch 21/100\n",
      "50000/50000 [==============================] - 14s 287us/step - loss: 1.0419 - acc: 0.6265 - val_loss: 1.4013 - val_acc: 0.5200\n",
      "Epoch 22/100\n",
      "50000/50000 [==============================] - 14s 287us/step - loss: 1.0158 - acc: 0.6371 - val_loss: 1.3676 - val_acc: 0.5359\n",
      "Epoch 23/100\n",
      "50000/50000 [==============================] - 15s 293us/step - loss: 0.9793 - acc: 0.6482 - val_loss: 1.3982 - val_acc: 0.5281\n",
      "Epoch 24/100\n",
      "50000/50000 [==============================] - 15s 292us/step - loss: 0.9717 - acc: 0.6506 - val_loss: 1.4141 - val_acc: 0.5207\n",
      "Epoch 25/100\n",
      "50000/50000 [==============================] - 15s 293us/step - loss: 0.9438 - acc: 0.6624 - val_loss: 1.4581 - val_acc: 0.5158\n",
      "Epoch 26/100\n",
      "50000/50000 [==============================] - 15s 305us/step - loss: 0.9106 - acc: 0.6748 - val_loss: 1.4556 - val_acc: 0.5325\n",
      "Epoch 27/100\n",
      "50000/50000 [==============================] - 15s 294us/step - loss: 0.8743 - acc: 0.6872 - val_loss: 1.4649 - val_acc: 0.5221\n",
      "Epoch 28/100\n",
      "50000/50000 [==============================] - 15s 293us/step - loss: 0.8602 - acc: 0.6913 - val_loss: 1.5055 - val_acc: 0.5368\n",
      "Epoch 29/100\n",
      "50000/50000 [==============================] - 14s 288us/step - loss: 0.8286 - acc: 0.7026 - val_loss: 1.5358 - val_acc: 0.5257\n",
      "Epoch 30/100\n",
      "50000/50000 [==============================] - 15s 294us/step - loss: 0.8070 - acc: 0.7110 - val_loss: 1.5735 - val_acc: 0.5238\n",
      "Epoch 31/100\n",
      "50000/50000 [==============================] - 15s 302us/step - loss: 0.7746 - acc: 0.7214 - val_loss: 1.5813 - val_acc: 0.5229\n",
      "Epoch 32/100\n",
      "50000/50000 [==============================] - 15s 307us/step - loss: 0.7549 - acc: 0.7299 - val_loss: 1.6560 - val_acc: 0.5168\n",
      "Epoch 33/100\n",
      "50000/50000 [==============================] - 15s 298us/step - loss: 0.7370 - acc: 0.7346 - val_loss: 1.6502 - val_acc: 0.5097\n",
      "Epoch 34/100\n",
      "50000/50000 [==============================] - 17s 338us/step - loss: 0.6953 - acc: 0.7481 - val_loss: 1.6414 - val_acc: 0.5283\n",
      "Epoch 35/100\n",
      "50000/50000 [==============================] - 15s 300us/step - loss: 0.6743 - acc: 0.7562 - val_loss: 1.6802 - val_acc: 0.5263\n",
      "Epoch 36/100\n",
      "50000/50000 [==============================] - 15s 296us/step - loss: 0.6571 - acc: 0.7638 - val_loss: 1.7750 - val_acc: 0.5150\n",
      "Epoch 37/100\n",
      "50000/50000 [==============================] - 15s 302us/step - loss: 0.6253 - acc: 0.7753 - val_loss: 1.7769 - val_acc: 0.5247\n",
      "Epoch 38/100\n",
      "50000/50000 [==============================] - 15s 296us/step - loss: 0.6469 - acc: 0.7678 - val_loss: 1.7431 - val_acc: 0.5127\n",
      "Epoch 39/100\n",
      "50000/50000 [==============================] - 15s 306us/step - loss: 0.5875 - acc: 0.7895 - val_loss: 1.9204 - val_acc: 0.5146\n",
      "Epoch 40/100\n",
      "50000/50000 [==============================] - 16s 314us/step - loss: 0.5655 - acc: 0.7988 - val_loss: 1.9376 - val_acc: 0.5154\n",
      "Epoch 41/100\n",
      "50000/50000 [==============================] - 17s 332us/step - loss: 0.5538 - acc: 0.7994 - val_loss: 1.9398 - val_acc: 0.5267\n",
      "Epoch 42/100\n",
      "50000/50000 [==============================] - 15s 293us/step - loss: 0.5390 - acc: 0.8060 - val_loss: 1.9522 - val_acc: 0.5173\n",
      "Epoch 43/100\n",
      "50000/50000 [==============================] - 15s 296us/step - loss: 0.5228 - acc: 0.8132 - val_loss: 2.0761 - val_acc: 0.5113\n",
      "Epoch 44/100\n",
      "50000/50000 [==============================] - 15s 307us/step - loss: 0.4949 - acc: 0.8228 - val_loss: 2.1352 - val_acc: 0.5124\n",
      "Epoch 45/100\n",
      "50000/50000 [==============================] - 14s 280us/step - loss: 0.4764 - acc: 0.8290 - val_loss: 2.1275 - val_acc: 0.5113\n",
      "Epoch 46/100\n",
      "50000/50000 [==============================] - 14s 285us/step - loss: 0.4676 - acc: 0.8328 - val_loss: 2.2096 - val_acc: 0.5150\n",
      "Epoch 47/100\n",
      "50000/50000 [==============================] - 15s 291us/step - loss: 0.4571 - acc: 0.8365 - val_loss: 2.1658 - val_acc: 0.5142\n",
      "Epoch 48/100\n",
      "50000/50000 [==============================] - 16s 311us/step - loss: 0.4631 - acc: 0.8340 - val_loss: 2.3046 - val_acc: 0.5040\n",
      "Epoch 49/100\n",
      "50000/50000 [==============================] - 16s 314us/step - loss: 0.4340 - acc: 0.8424 - val_loss: 2.3041 - val_acc: 0.5094\n",
      "Epoch 50/100\n",
      "50000/50000 [==============================] - 14s 290us/step - loss: 0.4224 - acc: 0.8473 - val_loss: 2.2874 - val_acc: 0.5126\n",
      "Epoch 51/100\n",
      "50000/50000 [==============================] - 15s 301us/step - loss: 0.3988 - acc: 0.8574 - val_loss: 2.3457 - val_acc: 0.5173\n",
      "Epoch 52/100\n",
      "50000/50000 [==============================] - 14s 288us/step - loss: 0.3805 - acc: 0.8635 - val_loss: 2.3333 - val_acc: 0.5181\n",
      "Epoch 53/100\n",
      "50000/50000 [==============================] - 15s 298us/step - loss: 0.3942 - acc: 0.8601 - val_loss: 2.3877 - val_acc: 0.5220\n",
      "Epoch 54/100\n",
      "50000/50000 [==============================] - 15s 297us/step - loss: 0.3867 - acc: 0.8623 - val_loss: 2.5003 - val_acc: 0.4981\n",
      "Epoch 55/100\n",
      "50000/50000 [==============================] - 16s 310us/step - loss: 0.3661 - acc: 0.8682 - val_loss: 2.5972 - val_acc: 0.5135\n",
      "Epoch 56/100\n",
      "50000/50000 [==============================] - 15s 291us/step - loss: 0.3662 - acc: 0.8688 - val_loss: 2.5396 - val_acc: 0.5119\n",
      "Epoch 57/100\n",
      "50000/50000 [==============================] - 14s 288us/step - loss: 0.3294 - acc: 0.8822 - val_loss: 2.6695 - val_acc: 0.5115\n",
      "Epoch 58/100\n",
      "50000/50000 [==============================] - 14s 288us/step - loss: 0.3483 - acc: 0.8743 - val_loss: 2.6200 - val_acc: 0.5112\n",
      "Epoch 59/100\n",
      "50000/50000 [==============================] - 14s 284us/step - loss: 0.3298 - acc: 0.8820 - val_loss: 2.7040 - val_acc: 0.5073\n",
      "Epoch 60/100\n",
      "50000/50000 [==============================] - 14s 285us/step - loss: 0.3315 - acc: 0.8815 - val_loss: 2.6742 - val_acc: 0.5132\n",
      "Epoch 61/100\n",
      "50000/50000 [==============================] - 15s 293us/step - loss: 0.3111 - acc: 0.8895 - val_loss: 2.7904 - val_acc: 0.5111\n",
      "Epoch 62/100\n",
      "50000/50000 [==============================] - 15s 295us/step - loss: 0.3091 - acc: 0.8901 - val_loss: 2.8206 - val_acc: 0.5156\n",
      "Epoch 63/100\n",
      "50000/50000 [==============================] - 15s 298us/step - loss: 0.2991 - acc: 0.8940 - val_loss: 2.8785 - val_acc: 0.5099\n",
      "Epoch 64/100\n",
      "50000/50000 [==============================] - 15s 297us/step - loss: 0.2905 - acc: 0.8953 - val_loss: 2.8712 - val_acc: 0.5029\n",
      "Epoch 65/100\n",
      "50000/50000 [==============================] - 14s 289us/step - loss: 0.2939 - acc: 0.8945 - val_loss: 2.8491 - val_acc: 0.5191\n",
      "Epoch 66/100\n",
      "50000/50000 [==============================] - 16s 314us/step - loss: 0.2975 - acc: 0.8954 - val_loss: 2.9690 - val_acc: 0.5142\n",
      "Epoch 67/100\n",
      "50000/50000 [==============================] - 17s 349us/step - loss: 0.2882 - acc: 0.8987 - val_loss: 2.9039 - val_acc: 0.5062\n",
      "Epoch 68/100\n",
      "50000/50000 [==============================] - 15s 293us/step - loss: 0.2737 - acc: 0.9037 - val_loss: 2.8959 - val_acc: 0.5064\n",
      "Epoch 69/100\n",
      "50000/50000 [==============================] - 14s 284us/step - loss: 0.2662 - acc: 0.9064 - val_loss: 2.9717 - val_acc: 0.5098\n",
      "Epoch 70/100\n",
      "50000/50000 [==============================] - 15s 293us/step - loss: 0.2665 - acc: 0.9052 - val_loss: 3.0051 - val_acc: 0.5072\n",
      "Epoch 71/100\n",
      "50000/50000 [==============================] - 15s 302us/step - loss: 0.3078 - acc: 0.8908 - val_loss: 2.9731 - val_acc: 0.5049\n",
      "Epoch 72/100\n",
      "50000/50000 [==============================] - 15s 303us/step - loss: 0.2679 - acc: 0.9050 - val_loss: 3.0162 - val_acc: 0.5075\n",
      "Epoch 73/100\n",
      "50000/50000 [==============================] - 15s 307us/step - loss: 0.2457 - acc: 0.9133 - val_loss: 3.0468 - val_acc: 0.5030\n",
      "Epoch 74/100\n",
      "50000/50000 [==============================] - 14s 290us/step - loss: 0.2463 - acc: 0.9123 - val_loss: 3.0527 - val_acc: 0.5124\n",
      "Epoch 75/100\n",
      "50000/50000 [==============================] - 15s 294us/step - loss: 0.2257 - acc: 0.9205 - val_loss: 3.1487 - val_acc: 0.5094\n",
      "Epoch 76/100\n",
      "50000/50000 [==============================] - 14s 288us/step - loss: 0.2518 - acc: 0.9115 - val_loss: 3.1503 - val_acc: 0.5069\n",
      "Epoch 77/100\n",
      "50000/50000 [==============================] - 14s 288us/step - loss: 0.2700 - acc: 0.9061 - val_loss: 3.1110 - val_acc: 0.5135\n",
      "Epoch 78/100\n",
      "50000/50000 [==============================] - 15s 293us/step - loss: 0.1991 - acc: 0.9288 - val_loss: 3.2182 - val_acc: 0.5049\n",
      "Epoch 79/100\n",
      "50000/50000 [==============================] - 14s 286us/step - loss: 0.2310 - acc: 0.9177 - val_loss: 3.0749 - val_acc: 0.5059\n",
      "Epoch 80/100\n",
      "50000/50000 [==============================] - 14s 280us/step - loss: 0.2269 - acc: 0.9199 - val_loss: 3.2660 - val_acc: 0.5051\n",
      "Epoch 81/100\n",
      "50000/50000 [==============================] - 14s 282us/step - loss: 0.2181 - acc: 0.9227 - val_loss: 3.2593 - val_acc: 0.5000\n",
      "Epoch 82/100\n",
      "50000/50000 [==============================] - 15s 295us/step - loss: 0.2379 - acc: 0.9177 - val_loss: 3.1752 - val_acc: 0.5068\n",
      "Epoch 83/100\n",
      "50000/50000 [==============================] - 15s 301us/step - loss: 0.2353 - acc: 0.9173 - val_loss: 3.2408 - val_acc: 0.5031\n",
      "Epoch 84/100\n",
      "50000/50000 [==============================] - 15s 291us/step - loss: 0.2153 - acc: 0.9253 - val_loss: 3.3045 - val_acc: 0.5110\n",
      "Epoch 85/100\n",
      "50000/50000 [==============================] - 15s 291us/step - loss: 0.1955 - acc: 0.9314 - val_loss: 3.3540 - val_acc: 0.5090\n",
      "Epoch 86/100\n",
      "50000/50000 [==============================] - 15s 294us/step - loss: 0.1969 - acc: 0.9301 - val_loss: 3.4308 - val_acc: 0.5019\n",
      "Epoch 87/100\n",
      "50000/50000 [==============================] - 16s 311us/step - loss: 0.2313 - acc: 0.9183 - val_loss: 3.3197 - val_acc: 0.4969\n",
      "Epoch 88/100\n",
      "50000/50000 [==============================] - 15s 309us/step - loss: 0.1936 - acc: 0.9314 - val_loss: 3.4036 - val_acc: 0.5006\n",
      "Epoch 89/100\n",
      "50000/50000 [==============================] - 15s 291us/step - loss: 0.1982 - acc: 0.9308 - val_loss: 3.4172 - val_acc: 0.5032\n",
      "Epoch 90/100\n",
      "50000/50000 [==============================] - 15s 305us/step - loss: 0.1991 - acc: 0.9294 - val_loss: 3.4600 - val_acc: 0.5023\n",
      "Epoch 91/100\n",
      "50000/50000 [==============================] - 15s 295us/step - loss: 0.2141 - acc: 0.9248 - val_loss: 3.3739 - val_acc: 0.5056\n",
      "Epoch 92/100\n",
      "50000/50000 [==============================] - 14s 287us/step - loss: 0.1707 - acc: 0.9414 - val_loss: 3.5399 - val_acc: 0.5056\n",
      "Epoch 93/100\n",
      "50000/50000 [==============================] - 15s 294us/step - loss: 0.1764 - acc: 0.9383 - val_loss: 3.5414 - val_acc: 0.5039\n",
      "Epoch 94/100\n",
      "50000/50000 [==============================] - 14s 285us/step - loss: 0.2149 - acc: 0.9239 - val_loss: 3.3720 - val_acc: 0.5122\n",
      "Epoch 95/100\n",
      "50000/50000 [==============================] - 15s 300us/step - loss: 0.1852 - acc: 0.9345 - val_loss: 3.5965 - val_acc: 0.5049\n",
      "Epoch 96/100\n",
      "50000/50000 [==============================] - 15s 295us/step - loss: 0.2018 - acc: 0.9284 - val_loss: 3.5059 - val_acc: 0.5112\n",
      "Epoch 97/100\n",
      "50000/50000 [==============================] - 16s 311us/step - loss: 0.1673 - acc: 0.9410 - val_loss: 3.5423 - val_acc: 0.5098\n",
      "Epoch 98/100\n",
      "50000/50000 [==============================] - 14s 286us/step - loss: 0.2188 - acc: 0.9251 - val_loss: 3.5071 - val_acc: 0.5047\n",
      "Epoch 99/100\n",
      "50000/50000 [==============================] - 14s 288us/step - loss: 0.1879 - acc: 0.9346 - val_loss: 3.5517 - val_acc: 0.5074\n",
      "Epoch 100/100\n",
      "50000/50000 [==============================] - 14s 282us/step - loss: 0.1593 - acc: 0.9463 - val_loss: 3.5714 - val_acc: 0.5095\n"
     ]
    },
    {
     "data": {
      "text/plain": [
       "<keras.callbacks.History at 0x1f4a60aac50>"
      ]
     },
     "execution_count": 36,
     "metadata": {},
     "output_type": "execute_result"
    }
   ],
   "source": [
    "model.fit(x_train, y_train, \n",
    "          epochs=EPOCHS, \n",
    "          batch_size=BATCH_SIZE, \n",
    "          validation_data=(x_test, y_test), \n",
    "          shuffle=True)"
   ]
  },
  {
   "cell_type": "code",
   "execution_count": 37,
   "metadata": {},
   "outputs": [
    {
     "data": {
      "image/png": "[encoded data removed]",
      "text/plain": [
       "<Figure size 432x288 with 1 Axes>"
      ]
     },
     "metadata": {
      "needs_background": "light"
     },
     "output_type": "display_data"
    },
    {
     "data": {
      "image/png": "[encoded data removed]",
      "text/plain": [
       "<Figure size 432x288 with 1 Axes>"
      ]
     },
     "metadata": {
      "needs_background": "light"
     },
     "output_type": "display_data"
    }
   ],
   "source": [
    "import matplotlib.pyplot as plt\n",
    "\n",
    "\n",
    "train_loss = model.history.history[\"loss\"]\n",
    "valid_loss = model.history.history[\"val_loss\"]\n",
    "\n",
    "train_acc = model.history.history[\"acc\"]\n",
    "valid_acc = model.history.history[\"val_acc\"]\n",
    "\n",
    "plt.plot(range(len(train_loss)), train_loss, label=\"train loss\")\n",
    "plt.plot(range(len(valid_loss)), valid_loss, label=\"valid loss\")\n",
    "plt.legend()\n",
    "plt.title(\"Loss\")\n",
    "plt.show()\n",
    "\n",
    "plt.plot(range(len(train_acc)), train_acc, label=\"train accuracy\")\n",
    "plt.plot(range(len(valid_acc)), valid_acc, label=\"valid accuracy\")\n",
    "plt.legend()\n",
    "plt.title(\"Accuracy\")\n",
    "plt.show()"
   ]
  }
 ],
 "metadata": {
  "kernelspec": {
   "display_name": "Python 3",
   "language": "python",
   "name": "python3"
  },
  "language_info": {
   "codemirror_mode": {
    "name": "ipython",
    "version": 3
   },
   "file_extension": ".py",
   "mimetype": "text/x-python",
   "name": "python",
   "nbconvert_exporter": "python",
   "pygments_lexer": "ipython3",
   "version": "3.7.3"
  }
 },
 "nbformat": 4,
 "nbformat_minor": 2
}
