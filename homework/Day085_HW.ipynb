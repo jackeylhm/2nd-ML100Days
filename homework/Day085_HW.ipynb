{
 "cells": [
  {
   "cell_type": "markdown",
   "metadata": {},
   "source": [
    "## Work\n",
    "1. 試改變 monitor \"Validation Accuracy\" 並比較結果\n",
    "Using val_acc will cause the training to stop later than val_loss\n",
    "\n",
    "2. 調整 earlystop 的等待次數至 10, 25 並比較結果\n",
    "The higher the patience is, the later it would stop.\n",
    " 5: stop at 25 epoch\n",
    "10: stop at 32 epoch\n",
    "25: stop at 44 epoch"
   ]
  },
  {
   "cell_type": "code",
   "execution_count": 33,
   "metadata": {},
   "outputs": [],
   "source": [
    "import os\n",
    "import keras\n",
    "import matplotlib.pyplot as plt\n",
    "%matplotlib inline\n",
    "\n",
    "# Disable GPU\n",
    "os.environ[\"CUDA_VISIBLE_DEVICES\"] = \"\""
   ]
  },
  {
   "cell_type": "code",
   "execution_count": 34,
   "metadata": {},
   "outputs": [],
   "source": [
    "train, test = keras.datasets.cifar10.load_data()"
   ]
  },
  {
   "cell_type": "code",
   "execution_count": 35,
   "metadata": {},
   "outputs": [],
   "source": [
    "## 資料前處理\n",
    "def preproc_x(x, flatten=True):\n",
    "    x = x / 255.\n",
    "    if flatten:\n",
    "        x = x.reshape((len(x), -1))\n",
    "    return x\n",
    "\n",
    "def preproc_y(y, num_classes=10):\n",
    "    if y.shape[-1] == 1:\n",
    "        y = keras.utils.to_categorical(y, num_classes)\n",
    "    return y    "
   ]
  },
  {
   "cell_type": "code",
   "execution_count": 36,
   "metadata": {},
   "outputs": [],
   "source": [
    "x_train, y_train = train\n",
    "x_test, y_test = test\n",
    "\n",
    "# Preproc the inputs\n",
    "x_train = preproc_x(x_train)\n",
    "x_test = preproc_x(x_test)\n",
    "\n",
    "# Preprc the outputs\n",
    "y_train = preproc_y(y_train)\n",
    "y_test = preproc_y(y_test)"
   ]
  },
  {
   "cell_type": "code",
   "execution_count": 37,
   "metadata": {},
   "outputs": [],
   "source": [
    "from keras.layers import BatchNormalization\n",
    "\n",
    "\"\"\"\n",
    "建立神經網路，並加入 BN layer\n",
    "\"\"\"\n",
    "def build_mlp(input_shape, output_units=10, num_neurons=[512, 256, 128]):\n",
    "    input_layer = keras.layers.Input(input_shape)\n",
    "    \n",
    "    for i, n_units in enumerate(num_neurons):\n",
    "        if i == 0:\n",
    "            x = keras.layers.Dense(units=n_units, \n",
    "                                   activation=\"relu\", \n",
    "                                   name=\"hidden_layer\"+str(i+1))(input_layer)\n",
    "            x = BatchNormalization()(x)\n",
    "        else:\n",
    "            x = keras.layers.Dense(units=n_units, \n",
    "                                   activation=\"relu\", \n",
    "                                   name=\"hidden_layer\"+str(i+1))(x)\n",
    "            x = BatchNormalization()(x)\n",
    "    \n",
    "    out = keras.layers.Dense(units=output_units, activation=\"softmax\", name=\"output\")(x)\n",
    "    \n",
    "    model = keras.models.Model(inputs=[input_layer], outputs=[out])\n",
    "    return model"
   ]
  },
  {
   "cell_type": "code",
   "execution_count": 38,
   "metadata": {},
   "outputs": [],
   "source": [
    "## 超參數設定\n",
    "LEARNING_RATE = 1e-3\n",
    "EPOCHS = 50\n",
    "BATCH_SIZE = 1024\n",
    "MOMENTUM = 0.95"
   ]
  },
  {
   "cell_type": "code",
   "execution_count": 39,
   "metadata": {},
   "outputs": [
    {
     "name": "stdout",
     "output_type": "stream",
     "text": [
      "_________________________________________________________________\n",
      "Layer (type)                 Output Shape              Param #   \n",
      "=================================================================\n",
      "input_5 (InputLayer)         (None, 3072)              0         \n",
      "_________________________________________________________________\n",
      "hidden_layer1 (Dense)        (None, 512)               1573376   \n",
      "_________________________________________________________________\n",
      "batch_normalization_13 (Batc (None, 512)               2048      \n",
      "_________________________________________________________________\n",
      "hidden_layer2 (Dense)        (None, 256)               131328    \n",
      "_________________________________________________________________\n",
      "batch_normalization_14 (Batc (None, 256)               1024      \n",
      "_________________________________________________________________\n",
      "hidden_layer3 (Dense)        (None, 128)               32896     \n",
      "_________________________________________________________________\n",
      "batch_normalization_15 (Batc (None, 128)               512       \n",
      "_________________________________________________________________\n",
      "output (Dense)               (None, 10)                1290      \n",
      "=================================================================\n",
      "Total params: 1,742,474\n",
      "Trainable params: 1,740,682\n",
      "Non-trainable params: 1,792\n",
      "_________________________________________________________________\n",
      "Train on 50000 samples, validate on 10000 samples\n",
      "Epoch 1/50\n",
      "50000/50000 [==============================] - 7s 131us/step - loss: 2.2038 - acc: 0.2760 - val_loss: 2.1227 - val_acc: 0.3160\n",
      "Epoch 2/50\n",
      "50000/50000 [==============================] - 5s 97us/step - loss: 1.7419 - acc: 0.3951 - val_loss: 1.8040 - val_acc: 0.3843\n",
      "Epoch 3/50\n",
      "50000/50000 [==============================] - 5s 98us/step - loss: 1.6226 - acc: 0.4331 - val_loss: 1.7315 - val_acc: 0.3993\n",
      "Epoch 4/50\n",
      "50000/50000 [==============================] - 5s 98us/step - loss: 1.5520 - acc: 0.4576 - val_loss: 1.6554 - val_acc: 0.4182\n",
      "Epoch 5/50\n",
      "50000/50000 [==============================] - 5s 99us/step - loss: 1.4990 - acc: 0.4793 - val_loss: 1.6130 - val_acc: 0.4298\n",
      "Epoch 6/50\n",
      "50000/50000 [==============================] - 5s 100us/step - loss: 1.4535 - acc: 0.4929 - val_loss: 1.5815 - val_acc: 0.4378\n",
      "Epoch 7/50\n",
      "50000/50000 [==============================] - 5s 100us/step - loss: 1.4155 - acc: 0.5084 - val_loss: 1.5573 - val_acc: 0.4530\n",
      "Epoch 8/50\n",
      "50000/50000 [==============================] - 5s 102us/step - loss: 1.3801 - acc: 0.5217 - val_loss: 1.5473 - val_acc: 0.4481\n",
      "Epoch 9/50\n",
      "50000/50000 [==============================] - 5s 103us/step - loss: 1.3482 - acc: 0.5308 - val_loss: 1.5295 - val_acc: 0.4586\n",
      "Epoch 10/50\n",
      "50000/50000 [==============================] - 5s 103us/step - loss: 1.3180 - acc: 0.5441 - val_loss: 1.5310 - val_acc: 0.4569\n",
      "Epoch 11/50\n",
      "50000/50000 [==============================] - 5s 106us/step - loss: 1.2906 - acc: 0.5515 - val_loss: 1.5097 - val_acc: 0.4672\n",
      "Epoch 12/50\n",
      "50000/50000 [==============================] - 6s 111us/step - loss: 1.2638 - acc: 0.5641 - val_loss: 1.5033 - val_acc: 0.4684\n",
      "Epoch 13/50\n",
      "50000/50000 [==============================] - 5s 108us/step - loss: 1.2392 - acc: 0.5721 - val_loss: 1.4952 - val_acc: 0.4708\n",
      "Epoch 14/50\n",
      "50000/50000 [==============================] - 5s 105us/step - loss: 1.2134 - acc: 0.5812 - val_loss: 1.4916 - val_acc: 0.4738\n",
      "Epoch 15/50\n",
      "50000/50000 [==============================] - 6s 116us/step - loss: 1.1896 - acc: 0.5907 - val_loss: 1.4810 - val_acc: 0.4790\n",
      "Epoch 16/50\n",
      "50000/50000 [==============================] - 5s 106us/step - loss: 1.1658 - acc: 0.5989 - val_loss: 1.4849 - val_acc: 0.4782\n",
      "Epoch 17/50\n",
      "50000/50000 [==============================] - 5s 107us/step - loss: 1.1435 - acc: 0.6069 - val_loss: 1.4834 - val_acc: 0.4784\n",
      "Epoch 18/50\n",
      "50000/50000 [==============================] - 5s 107us/step - loss: 1.1218 - acc: 0.6144 - val_loss: 1.4712 - val_acc: 0.4844\n",
      "Epoch 19/50\n",
      "50000/50000 [==============================] - 5s 110us/step - loss: 1.0987 - acc: 0.6241 - val_loss: 1.4698 - val_acc: 0.4819\n",
      "Epoch 20/50\n",
      "50000/50000 [==============================] - 5s 107us/step - loss: 1.0777 - acc: 0.6326 - val_loss: 1.4765 - val_acc: 0.4875\n",
      "Epoch 21/50\n",
      "50000/50000 [==============================] - 5s 107us/step - loss: 1.0557 - acc: 0.6408 - val_loss: 1.4771 - val_acc: 0.4813\n",
      "Epoch 22/50\n",
      "50000/50000 [==============================] - 5s 109us/step - loss: 1.0352 - acc: 0.6479 - val_loss: 1.4828 - val_acc: 0.4812\n",
      "Epoch 23/50\n",
      "50000/50000 [==============================] - 5s 108us/step - loss: 1.0139 - acc: 0.6563 - val_loss: 1.4816 - val_acc: 0.4860\n",
      "Epoch 24/50\n",
      "50000/50000 [==============================] - 5s 108us/step - loss: 0.9925 - acc: 0.6650 - val_loss: 1.4810 - val_acc: 0.4881\n",
      "Epoch 25/50\n",
      "50000/50000 [==============================] - 5s 108us/step - loss: 0.9716 - acc: 0.6724 - val_loss: 1.4786 - val_acc: 0.4904\n",
      "Epoch 26/50\n",
      "50000/50000 [==============================] - 5s 108us/step - loss: 0.9512 - acc: 0.6805 - val_loss: 1.4888 - val_acc: 0.4820\n",
      "Epoch 27/50\n",
      "50000/50000 [==============================] - 5s 109us/step - loss: 0.9288 - acc: 0.6889 - val_loss: 1.5024 - val_acc: 0.4838\n",
      "Epoch 28/50\n",
      "50000/50000 [==============================] - 5s 108us/step - loss: 0.9110 - acc: 0.6959 - val_loss: 1.4948 - val_acc: 0.4866\n",
      "Epoch 29/50\n",
      "50000/50000 [==============================] - 5s 109us/step - loss: 0.8902 - acc: 0.7054 - val_loss: 1.4990 - val_acc: 0.4870\n",
      "Epoch 30/50\n",
      "50000/50000 [==============================] - 6s 110us/step - loss: 0.8709 - acc: 0.7136 - val_loss: 1.5191 - val_acc: 0.4834\n",
      "Epoch 31/50\n",
      "50000/50000 [==============================] - 5s 107us/step - loss: 0.8511 - acc: 0.7232 - val_loss: 1.5020 - val_acc: 0.4933\n",
      "Epoch 32/50\n",
      "50000/50000 [==============================] - 5s 108us/step - loss: 0.8307 - acc: 0.7300 - val_loss: 1.5187 - val_acc: 0.4894\n",
      "Epoch 33/50\n",
      "50000/50000 [==============================] - 5s 108us/step - loss: 0.8112 - acc: 0.7367 - val_loss: 1.5240 - val_acc: 0.4891\n",
      "Epoch 34/50\n",
      "50000/50000 [==============================] - 6s 111us/step - loss: 0.7902 - acc: 0.7461 - val_loss: 1.5332 - val_acc: 0.4923\n",
      "Epoch 35/50\n",
      "50000/50000 [==============================] - 5s 109us/step - loss: 0.7739 - acc: 0.7530 - val_loss: 1.5282 - val_acc: 0.4911\n",
      "Epoch 36/50\n",
      "50000/50000 [==============================] - 5s 110us/step - loss: 0.7534 - acc: 0.7608 - val_loss: 1.5366 - val_acc: 0.4882\n",
      "Epoch 37/50\n",
      "50000/50000 [==============================] - 5s 108us/step - loss: 0.7343 - acc: 0.7700 - val_loss: 1.5427 - val_acc: 0.4900\n",
      "Epoch 38/50\n",
      "50000/50000 [==============================] - 5s 109us/step - loss: 0.7168 - acc: 0.7751 - val_loss: 1.5509 - val_acc: 0.4918\n",
      "Epoch 39/50\n",
      "50000/50000 [==============================] - 5s 108us/step - loss: 0.6980 - acc: 0.7827 - val_loss: 1.5615 - val_acc: 0.4905\n",
      "Epoch 40/50\n",
      "50000/50000 [==============================] - 5s 109us/step - loss: 0.6775 - acc: 0.7910 - val_loss: 1.5950 - val_acc: 0.4859\n",
      "Epoch 41/50\n",
      "50000/50000 [==============================] - 6s 113us/step - loss: 0.6590 - acc: 0.8002 - val_loss: 1.5842 - val_acc: 0.4894\n",
      "Epoch 42/50\n",
      "50000/50000 [==============================] - 5s 108us/step - loss: 0.6437 - acc: 0.8046 - val_loss: 1.6034 - val_acc: 0.4877\n",
      "Epoch 43/50\n",
      "50000/50000 [==============================] - 5s 108us/step - loss: 0.6249 - acc: 0.8116 - val_loss: 1.6020 - val_acc: 0.4839\n",
      "Epoch 44/50\n",
      "50000/50000 [==============================] - 5s 108us/step - loss: 0.6076 - acc: 0.8160 - val_loss: 1.6208 - val_acc: 0.4875\n",
      "Epoch 00044: early stopping\n"
     ]
    }
   ],
   "source": [
    "# 載入 Callbacks\n",
    "\"\"\"Code Here\n",
    "設定 callbacks: Earlystop\n",
    "\"\"\"\n",
    "from keras.callbacks import EarlyStopping\n",
    "\n",
    "earlystop = EarlyStopping(monitor=\"val_loss\", \n",
    "                          patience=25, \n",
    "                          verbose=1\n",
    "                          )\n",
    "results = {}\n",
    "\"\"\"Code Here\n",
    "撰寫你的訓練流程並將結果用 dictionary 紀錄\n",
    "\"\"\"\n",
    "model = build_mlp(input_shape=x_train.shape[1:])\n",
    "model.summary()\n",
    "optimizer = keras.optimizers.SGD(lr=LEARNING_RATE, nesterov=True, momentum=MOMENTUM)\n",
    "model.compile(loss=\"categorical_crossentropy\", metrics=[\"accuracy\"], optimizer=optimizer)\n",
    "\n",
    "model.fit(x_train, y_train, \n",
    "          epochs=EPOCHS, \n",
    "          batch_size=BATCH_SIZE, \n",
    "          validation_data=(x_test, y_test), \n",
    "          shuffle=True,\n",
    "          callbacks=[earlystop]\n",
    "         )\n",
    "\n",
    "# Collect results\n",
    "train_loss = model.history.history[\"loss\"]\n",
    "valid_loss = model.history.history[\"val_loss\"]\n",
    "train_acc = model.history.history[\"acc\"]\n",
    "valid_acc = model.history.history[\"val_acc\"]"
   ]
  },
  {
   "cell_type": "code",
   "execution_count": 40,
   "metadata": {},
   "outputs": [
    {
     "data": {
      "image/png": "[encoded data removed]",
      "text/plain": [
       "<Figure size 432x288 with 1 Axes>"
      ]
     },
     "metadata": {
      "needs_background": "light"
     },
     "output_type": "display_data"
    },
    {
     "data": {
      "image/png": "[encoded data removed]",
      "text/plain": [
       "<Figure size 432x288 with 1 Axes>"
      ]
     },
     "metadata": {
      "needs_background": "light"
     },
     "output_type": "display_data"
    }
   ],
   "source": [
    "import matplotlib.pyplot as plt\n",
    "%matplotlib inline\n",
    "\"\"\"Code Here\n",
    "將結果繪出\n",
    "\"\"\"\n",
    "plt.plot(range(len(train_loss)), train_loss, label=\"train loss\")\n",
    "plt.plot(range(len(valid_loss)), valid_loss, label=\"valid loss\")\n",
    "plt.legend()\n",
    "plt.title(\"Loss\")\n",
    "plt.show()\n",
    "\n",
    "plt.plot(range(len(train_acc)), train_acc, label=\"train accuracy\")\n",
    "plt.plot(range(len(valid_acc)), valid_acc, label=\"valid accuracy\")\n",
    "plt.legend()\n",
    "plt.title(\"Accuracy\")\n",
    "plt.show()"
   ]
  },
  {
   "cell_type": "code",
   "execution_count": null,
   "metadata": {},
   "outputs": [],
   "source": []
  }
 ],
 "metadata": {
  "kernelspec": {
   "display_name": "Python 3",
   "language": "python",
   "name": "python3"
  },
  "language_info": {
   "codemirror_mode": {
    "name": "ipython",
    "version": 3
   },
   "file_extension": ".py",
   "mimetype": "text/x-python",
   "name": "python",
   "nbconvert_exporter": "python",
   "pygments_lexer": "ipython3",
   "version": "3.7.3"
  }
 },
 "nbformat": 4,
 "nbformat_minor": 2
}
