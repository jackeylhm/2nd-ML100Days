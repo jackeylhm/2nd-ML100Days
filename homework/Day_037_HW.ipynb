{
 "cells": [
  {
   "cell_type": "markdown",
   "metadata": {},
   "source": [
    "## [作業重點]\n",
    "了解線性回歸的模型發展歷程，並了解優勢與劣勢，以及其使用情境"
   ]
  },
  {
   "cell_type": "markdown",
   "metadata": {},
   "source": [
    "## 作業"
   ]
  },
  {
   "cell_type": "markdown",
   "metadata": {},
   "source": [
    "請閱讀以下相關文獻，並回答以下問題\n",
    "\n",
    "[Linear Regression 詳細介紹](https://brohrer.mcknote.com/zh-Hant/how_machine_learning_works/how_linear_regression_works.html)\n",
    "\n",
    "[Logistics Regression 詳細介紹](https://medium.com/@yehjames/%E8%B3%87%E6%96%99%E5%88%86%E6%9E%90-%E6%A9%9F%E5%99%A8%E5%AD%B8%E7%BF%92-%E7%AC%AC3-3%E8%AC%9B-%E7%B7%9A%E6%80%A7%E5%88%86%E9%A1%9E-%E9%82%8F%E8%BC%AF%E6%96%AF%E5%9B%9E%E6%AD%B8-logistic-regression-%E4%BB%8B%E7%B4%B9-a1a5f47017e5)\n"
   ]
  },
  {
   "cell_type": "markdown",
   "metadata": {},
   "source": [
    "1. 線性回歸模型能夠準確預測非線性關係的資料集嗎?\n",
    "\n",
    "It's less reliable to predict on non-linear regression model, higher error rate it would have.\n",
    "\n",
    "2. 回歸模型是否對資料分布有基本假設?\n",
    "Assumption of logistic regression\n",
    "\n",
    "a. Binary logistic regression requires the dependent variable to be binary and ordinal logistic regression requires the dependent variable to be ordinal.\n",
    "\n",
    "b. Logistic regression requires the observations to be independent of each other.  \n",
    "   In other words, the observations should not come from repeated measurements or matched data.\n",
    "\n",
    "c. Logistic regression requires there to be little or no multicollinearity among the independent variables.  \n",
    "   This means that the independent variables should not be too highly correlated with each other.\n",
    "\n",
    "d. Logistic regression assumes linearity of independent variables and log odds. \n",
    "   Although this analysis does not require the dependent and independent variables to be related linearly, \n",
    "   it requires that the independent variables are linearly related to the log odds.\n",
    "\n",
    "e. Logistic regression typically requires a large sample size. \n",
    "   A general guideline is that you need at minimum of 10 cases with the least frequent outcome \n",
    "   for each independent variable in your model. \n",
    "   For example, if you have 5 independent variables and the expected probability of \n",
    "   your least frequent outcome is .10, then you would need a minimum sample size of 500 (10*5 / .10)."
   ]
  },
  {
   "cell_type": "code",
   "execution_count": null,
   "metadata": {},
   "outputs": [],
   "source": []
  }
 ],
 "metadata": {
  "kernelspec": {
   "display_name": "Python 3",
   "language": "python",
   "name": "python3"
  },
  "language_info": {
   "codemirror_mode": {
    "name": "ipython",
    "version": 3
   },
   "file_extension": ".py",
   "mimetype": "text/x-python",
   "name": "python",
   "nbconvert_exporter": "python",
   "pygments_lexer": "ipython3",
   "version": "3.7.3"
  }
 },
 "nbformat": 4,
 "nbformat_minor": 2
}
