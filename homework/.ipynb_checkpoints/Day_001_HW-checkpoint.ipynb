{
 "cells": [
  {
   "cell_type": "markdown",
   "metadata": {},
   "source": [
    "\n",
    "作業1：\n",
    "請上 Kaggle, 在 Competitions 或 Dataset 中找一組競賽或資料並寫下：\n",
    "\n",
    "1.\t你選的這組資料為何重要?\n",
    "\n",
    "https://www.kaggle.com/c/google-ai-open-images-object-detection-track/data\n",
    "判別物件的種類, 和標出圖像內各種不同的物件, 是人工智慧技術很重要的應用. 有了這個技術, 就可以判別圖像的意境, 意圖, 風險, 未來, 並回應適當的動作.\n",
    "\n",
    "\n",
    "2.\t資料從何而來 (tips: 譬如提供者是誰、以什麼方式蒐集)?\n",
    "提供者為Google.\n",
    "由程式從各個網業中蒐集, 再經過篩選.\n",
    "\n",
    "3.\t蒐集而來的資料型態為何?\n",
    "非結構化的資料: 圖形.\n",
    "\n",
    "4.\t這組資料想解決的問題如何評估?\n",
    "這組資料想解決的問題是讓電腦能認出圖像內各種不同的物件, 以利進一步的利用. 評估的方式為電腦是不是能正確的指出物件在圖像中的位置, 並正確的判別物件的種類.\n",
    "\n"
   ]
  },
  {
   "cell_type": "markdown",
   "metadata": {},
   "source": [
    "作業2：\n",
    "想像你經營一個自由載客車隊，你希望能透過數據分析以提升業績，請你思考並描述你如何規劃整體的分析/解決方案：\n",
    "\n",
    "1.\t核心問題為何 (tips：如何定義 「提升業績 & 你的假設」)?\n",
    "\n",
    "核心的問題是如何提升車隊的的總營收及總淨利.\n",
    "\n",
    "業績的提昇, 以去年同月的總淨利, 或以去年全年淨營收與今年年淨營收做比較的百分比就是業績提升的比率.\n",
    "\n",
    "假設點是: 本車隊為合法的車隊, 持用合法的營業執照. 駕駛採會員制, 由公司經過各審核方法審核通過, 載具(車輛)由會員自行持有/維護. \n",
    "進一步假設公司目前不知道應該訂出公訂的每公里收費率, 還是由各司機在公司許可的範圍內自己訂出每次服務的每公里收費率.才能提高總收入.\n",
    "\n",
    "\n",
    "2.\t資料從何而來 (tips：哪些資料可能會對你想問的問題產生影響 & 資料如何蒐集)\n",
    "\n",
    "由手機App記錄車號/司機/起訖時間點/起訖地點/單次費用/公司抽成)\n",
    "\n",
    "由公司營運部的電腦系統結算  總營收 =  Sum( 出車記錄(車號/司機/起訖時間點/起訖地點/單次費用/公司抽成)\n",
    "\n",
    "由公司營運部的電腦系統記錄各項營運開銷.\n",
    "\n",
    "由公司營運部的電腦系統結算 總淨利 = 總營收 – 總開銷 – 營業稅.\n",
    "\n",
    "由公司營運部的電腦系統產出各月/季/年的總淨利比較.\n",
    "\n",
    "\n",
    "3.\t蒐集而來的資料型態為何\n",
    "\n",
    "結構化的資料, 比較適合存入RDBMS ( MySQL, PostgreSQL, SQL server, Oracle, etc )\n",
    "\n",
    "\n",
    "4.\t你要回答的問題，其如何評估 (tips：你的假設如何驗證)\n",
    "\n",
    "開發手機App功能, 讓架駛者可以自行選擇要用公訂費率, 還是要用自訂費率.\n",
    "\n",
    "比較架駛者採用公訂費率(對照組)及自訂費率(實驗組)兩組的比率及喜好.\n",
    "比較採用公訂費率及自訂費率的毛收入的變化. 如果自訂費率組的毛收入逐漸增加, 公訂費率組的毛收入逐漸減少, 而且車隊總淨收入增加, 代表自訂費率是比較好的收費方式."
   ]
  },
  {
   "cell_type": "markdown",
   "metadata": {},
   "source": [
    "## 練習時間\n",
    "#### 請寫一個函式用來計算 Mean Square Error\n",
    "$ MSE = \\frac{1}{n}\\sum_{i=1}^{n}{(Y_i - \\hat{Y}_i)^2} $\n",
    "\n",
    "### Hint: [如何取平方](https://googoodesign.gitbooks.io/-ezpython/unit-1.html)"
   ]
  },
  {
   "cell_type": "code",
   "execution_count": 3,
   "metadata": {},
   "outputs": [],
   "source": [
    "import numpy as np\n",
    "import matplotlib.pyplot as plt"
   ]
  },
  {
   "cell_type": "code",
   "execution_count": 9,
   "metadata": {},
   "outputs": [
    {
     "data": {
      "image/png": "[encoded data removed]",
      "text/plain": [
       "<Figure size 432x288 with 1 Axes>"
      ]
     },
     "metadata": {
      "needs_background": "light"
     },
     "output_type": "display_data"
    }
   ],
   "source": [
    "# Assign weight value\n",
    "w = 3\n",
    "\n",
    "# Assign bias value\n",
    "b = 0.5\n",
    "\n",
    "# Generate sequences of evenly spaced values within a defined interval. np.linspace(start = 0, stop = 100, num = 101)\n",
    "# To create 101 numbers between 0 and 100 as the axis-x value\n",
    "x_vals = np.linspace(0, 100, 101)\n",
    "\n",
    "# Generate axis-y value using 101 random value and combine with x_vals, weight, and bias. ( This can be done in other ways.)\n",
    "y_vals = (x_vals + np.random.randn(101) * 5) * w + b\n",
    "\n",
    "# Plot a blue-dot (b.) chart using x_vals and y_vals as values for axis-x and axis-y\n",
    "plt.plot(x_vals, y_vals, 'b.', label = 'data points')\n",
    "\n",
    "# Set the chart title\n",
    "plt.title(\"Randomly generated data points\")\n",
    "\n",
    "# Set the location of legend to 2 ( top left corner )\n",
    "plt.legend(loc = 2)\n",
    "\n",
    "# Show the chart\n",
    "plt.show()"
   ]
  },
  {
   "cell_type": "code",
   "execution_count": 11,
   "metadata": {},
   "outputs": [
    {
     "data": {
      "image/png": "[encoded data removed]",
      "text/plain": [
       "<Figure size 432x288 with 1 Axes>"
      ]
     },
     "metadata": {
      "needs_background": "light"
     },
     "output_type": "display_data"
    }
   ],
   "source": [
    "# Set a prediction formular for linear regression\n",
    "y_pred = x_vals * w + b\n",
    "\n",
    "# Plot the dots based on the given values of x_vals and y_vals\n",
    "plt.plot(x_vals, y_vals, 'b.', label = 'data point')\n",
    "\n",
    "# Plot a red-line (r-) as prediction line\n",
    "plt.plot(x_vals, y_pred, 'r-', label = 'prediction')\n",
    "\n",
    "# Set chart titile\n",
    "plt.title(\"Generate data points and prediction line\")\n",
    "\n",
    "# Set location of legend\n",
    "plt.legend(loc = 2)\n",
    "\n",
    "# Show the chart\n",
    "plt.show()"
   ]
  },
  {
   "cell_type": "code",
   "execution_count": 27,
   "metadata": {},
   "outputs": [
    {
     "name": "stdout",
     "output_type": "stream",
     "text": [
      "The mean squared error is 243.858\n"
     ]
    }
   ],
   "source": [
    "def mean_squared_error(y_vals, y_pred):\n",
    "    \"\"\"\n",
    "    計算 MSE\n",
    "    Args:\n",
    "        - y_vals: 實際值\n",
    "        - y_pred: 預測值\n",
    "    Return:\n",
    "        - mse: MSE\n",
    "    \"\"\"\n",
    "    # Mean squared error is the squared value of sum of gap between actual dot value and the line value \n",
    "    # devided by total numbers of items\n",
    "    mse = MSE = sum((y_vals - y_pred)**2) / len(y_vals)\n",
    "  \n",
    "    return mse\n",
    "\n",
    "MSE = mean_squared_error(y_vals, y_pred)\n",
    "print(\"The mean squared error is %.3f\" % (MSE))"
   ]
  },
  {
   "cell_type": "code",
   "execution_count": 25,
   "metadata": {},
   "outputs": [
    {
     "name": "stdout",
     "output_type": "stream",
     "text": [
      "The mean absolute error is 12.940\n"
     ]
    }
   ],
   "source": [
    "def mean_absolute_error(y_vals, y_pred):\n",
    "    \"\"\"\n",
    "    計算 MAE\n",
    "    Args:\n",
    "        - y_vals: 實際值\n",
    "        - y_pred: 預測值\n",
    "    Return:\n",
    "        - mae: MSE\n",
    "    \"\"\"\n",
    "    # Mean absolute error is the abosolute value of sum of gap between actual dot value and the line value \n",
    "    # devided by total numbers of items\n",
    "    mae = MAE = sum(abs(y_vals - y_pred)) / len(y_vals)\n",
    "    return mae\n",
    "\n",
    "MAE = mean_absolute_error(y_vals, y_pred)\n",
    "print(\"The mean absolute error is %.3f\" % (MAE))"
   ]
  },
  {
   "cell_type": "code",
   "execution_count": 26,
   "metadata": {},
   "outputs": [
    {
     "name": "stdout",
     "output_type": "stream",
     "text": [
      "The Mean squared error is 243.858\n",
      "The Mean absolute error is 12.940\n"
     ]
    }
   ],
   "source": [
    "MSE = mean_squared_error(y_vals, y_pred) \n",
    "MAE = mean_absolute_error(y_vals, y_pred) \n",
    "print(\"The Mean squared error is %.3f\" % (MSE)) \n",
    "print(\"The Mean absolute error is %.3f\" % (MAE))"
   ]
  }
 ],
 "metadata": {
  "anaconda-cloud": {},
  "kernelspec": {
   "display_name": "Python 3",
   "language": "python",
   "name": "python3"
  },
  "language_info": {
   "codemirror_mode": {
    "name": "ipython",
    "version": 3
   },
   "file_extension": ".py",
   "mimetype": "text/x-python",
   "name": "python",
   "nbconvert_exporter": "python",
   "pygments_lexer": "ipython3",
   "version": "3.7.3"
  }
 },
 "nbformat": 4,
 "nbformat_minor": 1
}
