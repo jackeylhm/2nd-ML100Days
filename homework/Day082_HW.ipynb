{
 "cells": [
  {
   "cell_type": "markdown",
   "metadata": {},
   "source": [
    "## Work\n",
    "1. 請比較使用不同層數以及不同 Dropout rate 對訓練的效果 ( reducing dropout rate from 0.25 to 0.15 produce better result, adding one layer may not help much.)\n",
    "2. 將 optimizer 改成使用 Adam 並加上適當的 dropout rate 檢視結果 ( Adam is not as good as SGD )\n"
   ]
  },
  {
   "cell_type": "code",
   "execution_count": 38,
   "metadata": {},
   "outputs": [],
   "source": [
    "import os\n",
    "import keras\n",
    "import itertools\n",
    "# Disable GPU\n",
    "os.environ[\"CUDA_VISIBLE_DEVICES\"] = \"\""
   ]
  },
  {
   "cell_type": "code",
   "execution_count": 39,
   "metadata": {},
   "outputs": [],
   "source": [
    "train, test = keras.datasets.cifar10.load_data()"
   ]
  },
  {
   "cell_type": "code",
   "execution_count": 40,
   "metadata": {},
   "outputs": [],
   "source": [
    "## 資料前處理\n",
    "def preproc_x(x, flatten=True):\n",
    "    x = x / 255.\n",
    "    if flatten:\n",
    "        x = x.reshape((len(x), -1))\n",
    "    return x\n",
    "\n",
    "def preproc_y(y, num_classes=10):\n",
    "    if y.shape[-1] == 1:\n",
    "        y = keras.utils.to_categorical(y, num_classes)\n",
    "    return y    "
   ]
  },
  {
   "cell_type": "code",
   "execution_count": 41,
   "metadata": {},
   "outputs": [],
   "source": [
    "x_train, y_train = train\n",
    "x_test, y_test = test\n",
    "\n",
    "# Preproc the inputs\n",
    "x_train = preproc_x(x_train)\n",
    "x_test = preproc_x(x_test)\n",
    "\n",
    "# Preprc the outputs\n",
    "y_train = preproc_y(y_train)\n",
    "y_test = preproc_y(y_test)"
   ]
  },
  {
   "cell_type": "code",
   "execution_count": 42,
   "metadata": {},
   "outputs": [],
   "source": [
    "\"\"\"Code Here\n",
    "設定超參數\n",
    "\"\"\"\n",
    "LEARNING_RATE = 1e-3\n",
    "EPOCHS = 50\n",
    "BATCH_SIZE = 256\n",
    "#MOMENTUM = 0.95\n",
    "Dropout_EXP = 0.15"
   ]
  },
  {
   "cell_type": "code",
   "execution_count": 46,
   "metadata": {},
   "outputs": [],
   "source": [
    "from keras.layers import Dropout\n",
    "def build_mlp(input_shape, output_units=10, num_neurons=[512, 256, 128], drp_ratio=0.2):\n",
    "    input_layer = keras.layers.Input(input_shape)\n",
    "    \n",
    "    for i, n_units in enumerate(num_neurons):\n",
    "        if i == 0:\n",
    "            x = keras.layers.Dense(units=n_units, \n",
    "                                   activation=\"relu\", \n",
    "                                   name=\"hidden_layer\"+str(i+1))(input_layer)\n",
    "            x = Dropout(drp_ratio)(x)\n",
    "            x = keras.layers.Dense(units=n_units, \n",
    "                                   activation=\"relu\", \n",
    "                                   name=\"hidden_layer_1\"+str(i+1))(input_layer)\n",
    "            x = Dropout(drp_ratio)(x)\n",
    "        else:\n",
    "            x = keras.layers.Dense(units=n_units, \n",
    "                                   activation=\"relu\", \n",
    "                                   name=\"hidden_layer\"+str(i+1))(x)\n",
    "            x = Dropout(drp_ratio)(x)\n",
    "            x = keras.layers.Dense(units=n_units, \n",
    "                                   activation=\"relu\", \n",
    "                                   name=\"hidden_layer_1\"+str(i+1))(x)\n",
    "            x = Dropout(drp_ratio)(x)\n",
    "    out = keras.layers.Dense(units=output_units, activation=\"softmax\", name=\"output\")(x)\n",
    "    \n",
    "    model = keras.models.Model(inputs=[input_layer], outputs=[out])\n",
    "    return model"
   ]
  },
  {
   "cell_type": "code",
   "execution_count": 47,
   "metadata": {
    "scrolled": true
   },
   "outputs": [
    {
     "name": "stdout",
     "output_type": "stream",
     "text": [
      "_________________________________________________________________\n",
      "Layer (type)                 Output Shape              Param #   \n",
      "=================================================================\n",
      "input_7 (InputLayer)         (None, 3072)              0         \n",
      "_________________________________________________________________\n",
      "hidden_layer_11 (Dense)      (None, 512)               1573376   \n",
      "_________________________________________________________________\n",
      "dropout_14 (Dropout)         (None, 512)               0         \n",
      "_________________________________________________________________\n",
      "hidden_layer2 (Dense)        (None, 256)               131328    \n",
      "_________________________________________________________________\n",
      "dropout_15 (Dropout)         (None, 256)               0         \n",
      "_________________________________________________________________\n",
      "hidden_layer_12 (Dense)      (None, 256)               65792     \n",
      "_________________________________________________________________\n",
      "dropout_16 (Dropout)         (None, 256)               0         \n",
      "_________________________________________________________________\n",
      "hidden_layer3 (Dense)        (None, 128)               32896     \n",
      "_________________________________________________________________\n",
      "dropout_17 (Dropout)         (None, 128)               0         \n",
      "_________________________________________________________________\n",
      "hidden_layer_13 (Dense)      (None, 128)               16512     \n",
      "_________________________________________________________________\n",
      "dropout_18 (Dropout)         (None, 128)               0         \n",
      "_________________________________________________________________\n",
      "output (Dense)               (None, 10)                1290      \n",
      "=================================================================\n",
      "Total params: 1,821,194\n",
      "Trainable params: 1,821,194\n",
      "Non-trainable params: 0\n",
      "_________________________________________________________________\n",
      "Train on 50000 samples, validate on 10000 samples\n",
      "Epoch 1/50\n",
      "50000/50000 [==============================] - 10s 192us/step - loss: 2.0312 - acc: 0.2401 - val_loss: 1.8522 - val_acc: 0.3273\n",
      "Epoch 2/50\n",
      "50000/50000 [==============================] - 9s 175us/step - loss: 1.8404 - acc: 0.3304 - val_loss: 1.6930 - val_acc: 0.3851\n",
      "Epoch 3/50\n",
      "50000/50000 [==============================] - 8s 160us/step - loss: 1.7767 - acc: 0.3548 - val_loss: 1.6749 - val_acc: 0.3966\n",
      "Epoch 4/50\n",
      "50000/50000 [==============================] - 8s 166us/step - loss: 1.7242 - acc: 0.3780 - val_loss: 1.6303 - val_acc: 0.4203\n",
      "Epoch 5/50\n",
      "50000/50000 [==============================] - 8s 164us/step - loss: 1.6920 - acc: 0.3914 - val_loss: 1.6264 - val_acc: 0.4112\n",
      "Epoch 6/50\n",
      "50000/50000 [==============================] - 8s 166us/step - loss: 1.6656 - acc: 0.4037 - val_loss: 1.5715 - val_acc: 0.4356\n",
      "Epoch 7/50\n",
      "50000/50000 [==============================] - 8s 164us/step - loss: 1.6434 - acc: 0.4090 - val_loss: 1.5620 - val_acc: 0.4421\n",
      "Epoch 8/50\n",
      "50000/50000 [==============================] - 9s 170us/step - loss: 1.6209 - acc: 0.4180 - val_loss: 1.5572 - val_acc: 0.4455\n",
      "Epoch 9/50\n",
      "50000/50000 [==============================] - 9s 172us/step - loss: 1.6044 - acc: 0.4247 - val_loss: 1.5444 - val_acc: 0.4562\n",
      "Epoch 10/50\n",
      "50000/50000 [==============================] - 9s 180us/step - loss: 1.5806 - acc: 0.4335 - val_loss: 1.5291 - val_acc: 0.4605\n",
      "Epoch 11/50\n",
      "50000/50000 [==============================] - 9s 177us/step - loss: 1.5689 - acc: 0.4393 - val_loss: 1.5350 - val_acc: 0.4535\n",
      "Epoch 12/50\n",
      "50000/50000 [==============================] - 9s 175us/step - loss: 1.5606 - acc: 0.4405 - val_loss: 1.5143 - val_acc: 0.4567\n",
      "Epoch 13/50\n",
      "50000/50000 [==============================] - 8s 169us/step - loss: 1.5503 - acc: 0.4451 - val_loss: 1.4891 - val_acc: 0.4622\n",
      "Epoch 14/50\n",
      "50000/50000 [==============================] - 8s 167us/step - loss: 1.5358 - acc: 0.4498 - val_loss: 1.4794 - val_acc: 0.4744\n",
      "Epoch 15/50\n",
      "50000/50000 [==============================] - 8s 166us/step - loss: 1.5193 - acc: 0.4559 - val_loss: 1.4593 - val_acc: 0.4782\n",
      "Epoch 16/50\n",
      "50000/50000 [==============================] - 8s 166us/step - loss: 1.5114 - acc: 0.4582 - val_loss: 1.4638 - val_acc: 0.4758\n",
      "Epoch 17/50\n",
      "50000/50000 [==============================] - 8s 168us/step - loss: 1.4979 - acc: 0.4645 - val_loss: 1.4368 - val_acc: 0.4828\n",
      "Epoch 18/50\n",
      "50000/50000 [==============================] - 8s 168us/step - loss: 1.5002 - acc: 0.4624 - val_loss: 1.4758 - val_acc: 0.4760\n",
      "Epoch 19/50\n",
      "50000/50000 [==============================] - 8s 170us/step - loss: 1.4903 - acc: 0.4677 - val_loss: 1.4605 - val_acc: 0.4801\n",
      "Epoch 20/50\n",
      "50000/50000 [==============================] - 9s 177us/step - loss: 1.4837 - acc: 0.4681 - val_loss: 1.4455 - val_acc: 0.4805\n",
      "Epoch 21/50\n",
      "50000/50000 [==============================] - 9s 178us/step - loss: 1.4711 - acc: 0.4718 - val_loss: 1.4549 - val_acc: 0.4792\n",
      "Epoch 22/50\n",
      "50000/50000 [==============================] - 9s 175us/step - loss: 1.4638 - acc: 0.4761 - val_loss: 1.4573 - val_acc: 0.4765\n",
      "Epoch 23/50\n",
      "50000/50000 [==============================] - 9s 177us/step - loss: 1.4528 - acc: 0.4798 - val_loss: 1.4326 - val_acc: 0.4839\n",
      "Epoch 24/50\n",
      "50000/50000 [==============================] - 9s 178us/step - loss: 1.4482 - acc: 0.4805 - val_loss: 1.4436 - val_acc: 0.4899\n",
      "Epoch 25/50\n",
      "50000/50000 [==============================] - 9s 183us/step - loss: 1.4467 - acc: 0.4818 - val_loss: 1.4390 - val_acc: 0.4843\n",
      "Epoch 26/50\n",
      "50000/50000 [==============================] - 10s 195us/step - loss: 1.4393 - acc: 0.4860 - val_loss: 1.4463 - val_acc: 0.4862\n",
      "Epoch 27/50\n",
      "50000/50000 [==============================] - 9s 174us/step - loss: 1.4277 - acc: 0.4902 - val_loss: 1.4362 - val_acc: 0.4850\n",
      "Epoch 28/50\n",
      "50000/50000 [==============================] - 9s 174us/step - loss: 1.4282 - acc: 0.4883 - val_loss: 1.4134 - val_acc: 0.5009\n",
      "Epoch 29/50\n",
      "50000/50000 [==============================] - 8s 169us/step - loss: 1.4120 - acc: 0.4924 - val_loss: 1.4388 - val_acc: 0.4847\n",
      "Epoch 30/50\n",
      "50000/50000 [==============================] - 9s 175us/step - loss: 1.4108 - acc: 0.4944 - val_loss: 1.3990 - val_acc: 0.4961\n",
      "Epoch 31/50\n",
      "50000/50000 [==============================] - 9s 170us/step - loss: 1.4181 - acc: 0.4920 - val_loss: 1.4265 - val_acc: 0.4913\n",
      "Epoch 32/50\n",
      "50000/50000 [==============================] - 9s 171us/step - loss: 1.4082 - acc: 0.4956 - val_loss: 1.4121 - val_acc: 0.5007\n",
      "Epoch 33/50\n",
      "50000/50000 [==============================] - 9s 173us/step - loss: 1.4030 - acc: 0.4982 - val_loss: 1.4226 - val_acc: 0.4873\n",
      "Epoch 34/50\n",
      "50000/50000 [==============================] - 9s 171us/step - loss: 1.3923 - acc: 0.5016 - val_loss: 1.4239 - val_acc: 0.4883\n",
      "Epoch 35/50\n",
      "50000/50000 [==============================] - 9s 174us/step - loss: 1.3803 - acc: 0.5043 - val_loss: 1.4023 - val_acc: 0.4953\n",
      "Epoch 36/50\n",
      "50000/50000 [==============================] - 9s 176us/step - loss: 1.3794 - acc: 0.5041 - val_loss: 1.3880 - val_acc: 0.5009\n",
      "Epoch 37/50\n",
      "50000/50000 [==============================] - 9s 173us/step - loss: 1.3698 - acc: 0.5095 - val_loss: 1.4193 - val_acc: 0.4975\n",
      "Epoch 38/50\n",
      "50000/50000 [==============================] - 9s 178us/step - loss: 1.3750 - acc: 0.5071 - val_loss: 1.3899 - val_acc: 0.5043\n",
      "Epoch 39/50\n",
      "50000/50000 [==============================] - 9s 173us/step - loss: 1.3613 - acc: 0.5123 - val_loss: 1.3796 - val_acc: 0.5075\n",
      "Epoch 40/50\n",
      "50000/50000 [==============================] - 9s 176us/step - loss: 1.3624 - acc: 0.5124 - val_loss: 1.3831 - val_acc: 0.5067\n",
      "Epoch 41/50\n",
      "50000/50000 [==============================] - 9s 178us/step - loss: 1.3608 - acc: 0.5129 - val_loss: 1.4005 - val_acc: 0.5027\n",
      "Epoch 42/50\n",
      "50000/50000 [==============================] - 9s 175us/step - loss: 1.3521 - acc: 0.5149 - val_loss: 1.3901 - val_acc: 0.5032\n",
      "Epoch 43/50\n",
      "50000/50000 [==============================] - 9s 174us/step - loss: 1.3479 - acc: 0.5175 - val_loss: 1.3750 - val_acc: 0.5031\n",
      "Epoch 44/50\n",
      "50000/50000 [==============================] - 9s 180us/step - loss: 1.3444 - acc: 0.5196 - val_loss: 1.3828 - val_acc: 0.5096\n",
      "Epoch 45/50\n",
      "50000/50000 [==============================] - 9s 171us/step - loss: 1.3406 - acc: 0.5200 - val_loss: 1.3748 - val_acc: 0.5047\n"
     ]
    },
    {
     "name": "stdout",
     "output_type": "stream",
     "text": [
      "Epoch 46/50\n",
      "50000/50000 [==============================] - 9s 179us/step - loss: 1.3434 - acc: 0.5185 - val_loss: 1.3742 - val_acc: 0.5094\n",
      "Epoch 47/50\n",
      "50000/50000 [==============================] - 9s 178us/step - loss: 1.3332 - acc: 0.5215 - val_loss: 1.3767 - val_acc: 0.5122\n",
      "Epoch 48/50\n",
      "50000/50000 [==============================] - 9s 182us/step - loss: 1.3305 - acc: 0.5230 - val_loss: 1.3735 - val_acc: 0.5088\n",
      "Epoch 49/50\n",
      "50000/50000 [==============================] - 9s 175us/step - loss: 1.3377 - acc: 0.5215 - val_loss: 1.3903 - val_acc: 0.5030s: 1 - ETA: 0s - loss: 1.3374 - a\n",
      "Epoch 50/50\n",
      "50000/50000 [==============================] - 9s 177us/step - loss: 1.3257 - acc: 0.5258 - val_loss: 1.3858 - val_acc: 0.5060\n"
     ]
    }
   ],
   "source": [
    "results = {}\n",
    "\"\"\"Code Here\n",
    "撰寫你的訓練流程並將結果用 dictionary 紀錄\n",
    "\"\"\"\n",
    "model = build_mlp(input_shape=x_train.shape[1:], drp_ratio=Dropout_EXP)\n",
    "model.summary()\n",
    "optimizer = keras.optimizers.Adam(lr=LEARNING_RATE)\n",
    "model.compile(loss=\"categorical_crossentropy\", metrics=[\"accuracy\"], optimizer=optimizer)\n",
    "\n",
    "model.fit(x_train, y_train, \n",
    "          epochs=EPOCHS, \n",
    "          batch_size=BATCH_SIZE, \n",
    "          validation_data=(x_test, y_test), \n",
    "          shuffle=True)\n",
    "\n",
    "# Collect results\n",
    "train_loss = model.history.history[\"loss\"]\n",
    "valid_loss = model.history.history[\"val_loss\"]\n",
    "train_acc = model.history.history[\"acc\"]\n",
    "valid_acc = model.history.history[\"val_acc\"]"
   ]
  },
  {
   "cell_type": "code",
   "execution_count": 48,
   "metadata": {},
   "outputs": [
    {
     "data": {
      "image/png": "[encoded data removed]",
      "text/plain": [
       "<Figure size 432x288 with 1 Axes>"
      ]
     },
     "metadata": {
      "needs_background": "light"
     },
     "output_type": "display_data"
    },
    {
     "data": {
      "image/png": "[encoded data removed]",
      "text/plain": [
       "<Figure size 432x288 with 1 Axes>"
      ]
     },
     "metadata": {
      "needs_background": "light"
     },
     "output_type": "display_data"
    }
   ],
   "source": [
    "import matplotlib.pyplot as plt\n",
    "%matplotlib inline\n",
    "\n",
    "plt.plot(range(len(train_loss)), train_loss, label=\"train loss\")\n",
    "plt.plot(range(len(valid_loss)), valid_loss, label=\"valid loss\")\n",
    "plt.legend()\n",
    "plt.title(\"Loss\")\n",
    "plt.show()\n",
    "\n",
    "plt.plot(range(len(train_acc)), train_acc, label=\"train accuracy\")\n",
    "plt.plot(range(len(valid_acc)), valid_acc, label=\"valid accuracy\")\n",
    "plt.legend()\n",
    "plt.title(\"Accuracy\")\n",
    "plt.show()"
   ]
  },
  {
   "cell_type": "code",
   "execution_count": null,
   "metadata": {},
   "outputs": [],
   "source": []
  }
 ],
 "metadata": {
  "kernelspec": {
   "display_name": "Python 3",
   "language": "python",
   "name": "python3"
  },
  "language_info": {
   "codemirror_mode": {
    "name": "ipython",
    "version": 3
   },
   "file_extension": ".py",
   "mimetype": "text/x-python",
   "name": "python",
   "nbconvert_exporter": "python",
   "pygments_lexer": "ipython3",
   "version": "3.7.3"
  }
 },
 "nbformat": 4,
 "nbformat_minor": 2
}
