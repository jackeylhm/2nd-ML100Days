{
 "cells": [
  {
   "cell_type": "markdown",
   "metadata": {},
   "source": [
    "## Work\n",
    "1. 試比較有 BN 在 Batch_size = 2, 16, 32, 128, 256 下的差異\n",
    " 256 accuracy: 0.95\n",
    " 128 accuracy: 0.90\n",
    " 32  accuracy: 0.70\n",
    " \n",
    "2. 請嘗試將 BN 放在 Activation 之前，並比較訓練結果\n",
    "  Get worse\n",
    "3. 請於 BN 放在 Input Layer 後，並比較結果"
   ]
  },
  {
   "cell_type": "code",
   "execution_count": 33,
   "metadata": {},
   "outputs": [],
   "source": [
    "import os\n",
    "import keras\n",
    "import itertools\n",
    "# Disable GPU\n",
    "os.environ[\"CUDA_VISIBLE_DEVICES\"] = \"\""
   ]
  },
  {
   "cell_type": "code",
   "execution_count": 34,
   "metadata": {},
   "outputs": [],
   "source": [
    "train, test = keras.datasets.cifar10.load_data()"
   ]
  },
  {
   "cell_type": "code",
   "execution_count": 35,
   "metadata": {},
   "outputs": [],
   "source": [
    "## 資料前處理\n",
    "def preproc_x(x, flatten=True):\n",
    "    x = x / 255.\n",
    "    if flatten:\n",
    "        x = x.reshape((len(x), -1))\n",
    "    return x\n",
    "\n",
    "def preproc_y(y, num_classes=10):\n",
    "    if y.shape[-1] == 1:\n",
    "        y = keras.utils.to_categorical(y, num_classes)\n",
    "    return y    "
   ]
  },
  {
   "cell_type": "code",
   "execution_count": 36,
   "metadata": {},
   "outputs": [],
   "source": [
    "x_train, y_train = train\n",
    "x_test, y_test = test\n",
    "\n",
    "# Preproc the inputs\n",
    "x_train = preproc_x(x_train)\n",
    "x_test = preproc_x(x_test)\n",
    "\n",
    "# Preprc the outputs\n",
    "y_train = preproc_y(y_train)\n",
    "y_test = preproc_y(y_test)"
   ]
  },
  {
   "cell_type": "code",
   "execution_count": 37,
   "metadata": {},
   "outputs": [],
   "source": [
    "from keras.layers import BatchNormalization\n",
    "\n",
    "\"\"\"\n",
    "建立神經網路，並加入 BN layer\n",
    "\"\"\"\n",
    "def build_mlp(input_shape, output_units=10, num_neurons=[512, 256, 128]):\n",
    "    input_layer = keras.layers.Input(input_shape)\n",
    "    \n",
    "    for i, n_units in enumerate(num_neurons):\n",
    "        if i == 0:\n",
    "\n",
    "            x = keras.layers.Dense(units=n_units, \n",
    "                                   activation=\"relu\", \n",
    "                                   name=\"hidden_layer\"+str(i+1))(input_layer)\n",
    "            \"\"\"x = BatchNormalization()(x) \"\"\"\n",
    "    \n",
    "        else:\n",
    "            \n",
    "            x = keras.layers.Dense(units=n_units, \n",
    "                                   activation=\"relu\", \n",
    "                                   name=\"hidden_layer\"+str(i+1))(x)\n",
    "            \"\"\"x = BatchNormalization()(x) \"\"\"\n",
    "    x = BatchNormalization()(x)\n",
    "    \n",
    "    out = keras.layers.Dense(units=output_units, activation=\"softmax\", name=\"output\")(x)\n",
    "    \n",
    "    model = keras.models.Model(inputs=[input_layer], outputs=[out])\n",
    "    return model"
   ]
  },
  {
   "cell_type": "code",
   "execution_count": 38,
   "metadata": {},
   "outputs": [],
   "source": [
    "## 超參數設定\n",
    "LEARNING_RATE = 1e-3\n",
    "EPOCHS = 50\n",
    "BATCH_SIZE = 256\n",
    "MOMENTUM = 0.95"
   ]
  },
  {
   "cell_type": "code",
   "execution_count": 39,
   "metadata": {
    "scrolled": true
   },
   "outputs": [
    {
     "name": "stdout",
     "output_type": "stream",
     "text": [
      "_________________________________________________________________\n",
      "Layer (type)                 Output Shape              Param #   \n",
      "=================================================================\n",
      "input_5 (InputLayer)         (None, 3072)              0         \n",
      "_________________________________________________________________\n",
      "hidden_layer1 (Dense)        (None, 512)               1573376   \n",
      "_________________________________________________________________\n",
      "hidden_layer2 (Dense)        (None, 256)               131328    \n",
      "_________________________________________________________________\n",
      "hidden_layer3 (Dense)        (None, 128)               32896     \n",
      "_________________________________________________________________\n",
      "batch_normalization_11 (Batc (None, 128)               512       \n",
      "_________________________________________________________________\n",
      "output (Dense)               (None, 10)                1290      \n",
      "=================================================================\n",
      "Total params: 1,739,402\n",
      "Trainable params: 1,739,146\n",
      "Non-trainable params: 256\n",
      "_________________________________________________________________\n",
      "Train on 50000 samples, validate on 10000 samples\n",
      "Epoch 1/50\n",
      "50000/50000 [==============================] - 7s 147us/step - loss: 1.8443 - acc: 0.3511 - val_loss: 1.7107 - val_acc: 0.4020\n",
      "Epoch 2/50\n",
      "50000/50000 [==============================] - 6s 127us/step - loss: 1.6352 - acc: 0.4315 - val_loss: 1.6433 - val_acc: 0.4170\n",
      "Epoch 3/50\n",
      "50000/50000 [==============================] - 6s 126us/step - loss: 1.5501 - acc: 0.4558 - val_loss: 1.5658 - val_acc: 0.4444\n",
      "Epoch 4/50\n",
      "50000/50000 [==============================] - 6s 125us/step - loss: 1.4922 - acc: 0.4774 - val_loss: 1.5255 - val_acc: 0.4646\n",
      "Epoch 5/50\n",
      "50000/50000 [==============================] - 6s 129us/step - loss: 1.4445 - acc: 0.4934 - val_loss: 1.5332 - val_acc: 0.4504\n",
      "Epoch 6/50\n",
      "50000/50000 [==============================] - 7s 141us/step - loss: 1.4053 - acc: 0.5079 - val_loss: 1.5049 - val_acc: 0.4619\n",
      "Epoch 7/50\n",
      "50000/50000 [==============================] - 7s 131us/step - loss: 1.3675 - acc: 0.5184 - val_loss: 1.4979 - val_acc: 0.4617\n",
      "Epoch 8/50\n",
      "50000/50000 [==============================] - 7s 131us/step - loss: 1.3358 - acc: 0.5302 - val_loss: 1.4430 - val_acc: 0.4844\n",
      "Epoch 9/50\n",
      "50000/50000 [==============================] - 7s 132us/step - loss: 1.3081 - acc: 0.5397 - val_loss: 1.4222 - val_acc: 0.4953\n",
      "Epoch 10/50\n",
      "50000/50000 [==============================] - 7s 131us/step - loss: 1.2785 - acc: 0.5517 - val_loss: 1.4488 - val_acc: 0.4854\n",
      "Epoch 11/50\n",
      "50000/50000 [==============================] - 6s 128us/step - loss: 1.2503 - acc: 0.5593 - val_loss: 1.4616 - val_acc: 0.4866\n",
      "Epoch 12/50\n",
      "50000/50000 [==============================] - 7s 131us/step - loss: 1.2235 - acc: 0.5710 - val_loss: 1.4453 - val_acc: 0.4987\n",
      "Epoch 13/50\n",
      "50000/50000 [==============================] - 7s 136us/step - loss: 1.2026 - acc: 0.5779 - val_loss: 1.4355 - val_acc: 0.4894\n",
      "Epoch 14/50\n",
      "50000/50000 [==============================] - 7s 133us/step - loss: 1.1824 - acc: 0.5830 - val_loss: 1.4365 - val_acc: 0.4939\n",
      "Epoch 15/50\n",
      "50000/50000 [==============================] - 7s 134us/step - loss: 1.1569 - acc: 0.5942 - val_loss: 1.3868 - val_acc: 0.5132\n",
      "Epoch 16/50\n",
      "50000/50000 [==============================] - 7s 133us/step - loss: 1.1346 - acc: 0.6004 - val_loss: 1.5034 - val_acc: 0.4799\n",
      "Epoch 17/50\n",
      "50000/50000 [==============================] - 7s 134us/step - loss: 1.1090 - acc: 0.6087 - val_loss: 1.4478 - val_acc: 0.4933\n",
      "Epoch 18/50\n",
      "50000/50000 [==============================] - 7s 132us/step - loss: 1.0872 - acc: 0.6168 - val_loss: 1.4090 - val_acc: 0.5098\n",
      "Epoch 19/50\n",
      "50000/50000 [==============================] - 7s 134us/step - loss: 1.0691 - acc: 0.6236 - val_loss: 1.4470 - val_acc: 0.4953\n",
      "Epoch 20/50\n",
      "50000/50000 [==============================] - 7s 137us/step - loss: 1.0506 - acc: 0.6301 - val_loss: 1.4375 - val_acc: 0.5082\n",
      "Epoch 21/50\n",
      "50000/50000 [==============================] - 7s 132us/step - loss: 1.0269 - acc: 0.6388 - val_loss: 1.4964 - val_acc: 0.4936\n",
      "Epoch 22/50\n",
      "50000/50000 [==============================] - 7s 131us/step - loss: 0.9975 - acc: 0.6497 - val_loss: 1.4189 - val_acc: 0.5134\n",
      "Epoch 23/50\n",
      "50000/50000 [==============================] - 7s 133us/step - loss: 0.9896 - acc: 0.6501 - val_loss: 1.5064 - val_acc: 0.4922\n",
      "Epoch 24/50\n",
      "50000/50000 [==============================] - 7s 137us/step - loss: 0.9713 - acc: 0.6583 - val_loss: 1.4363 - val_acc: 0.5150\n",
      "Epoch 25/50\n",
      "50000/50000 [==============================] - 7s 133us/step - loss: 0.9486 - acc: 0.6674 - val_loss: 1.4518 - val_acc: 0.5112\n",
      "Epoch 26/50\n",
      "50000/50000 [==============================] - 7s 139us/step - loss: 0.9318 - acc: 0.6704 - val_loss: 1.4139 - val_acc: 0.5241\n",
      "Epoch 27/50\n",
      "50000/50000 [==============================] - 7s 135us/step - loss: 0.9071 - acc: 0.6785 - val_loss: 1.4937 - val_acc: 0.4975\n",
      "Epoch 28/50\n",
      "50000/50000 [==============================] - 7s 132us/step - loss: 0.9028 - acc: 0.6809 - val_loss: 1.4870 - val_acc: 0.5109\n",
      "Epoch 29/50\n",
      "50000/50000 [==============================] - 6s 130us/step - loss: 0.8743 - acc: 0.6924 - val_loss: 1.5325 - val_acc: 0.5010\n",
      "Epoch 30/50\n",
      "50000/50000 [==============================] - 7s 136us/step - loss: 0.8585 - acc: 0.6967 - val_loss: 1.5114 - val_acc: 0.5086\n",
      "Epoch 31/50\n",
      "50000/50000 [==============================] - 7s 132us/step - loss: 0.8381 - acc: 0.7040 - val_loss: 1.6955 - val_acc: 0.4844\n",
      "Epoch 32/50\n",
      "50000/50000 [==============================] - 6s 130us/step - loss: 0.8228 - acc: 0.7090 - val_loss: 1.5461 - val_acc: 0.5063\n",
      "Epoch 33/50\n",
      "50000/50000 [==============================] - 7s 132us/step - loss: 0.8005 - acc: 0.7169 - val_loss: 1.6492 - val_acc: 0.4909\n",
      "Epoch 34/50\n",
      "50000/50000 [==============================] - 7s 135us/step - loss: 0.7817 - acc: 0.7229 - val_loss: 1.5686 - val_acc: 0.5052s - ETA:\n",
      "Epoch 35/50\n",
      "50000/50000 [==============================] - 7s 138us/step - loss: 0.7692 - acc: 0.7298 - val_loss: 1.5557 - val_acc: 0.5138: 0.7658 - \n",
      "Epoch 36/50\n",
      "50000/50000 [==============================] - 7s 132us/step - loss: 0.7513 - acc: 0.7368 - val_loss: 1.6544 - val_acc: 0.4946\n",
      "Epoch 37/50\n",
      "50000/50000 [==============================] - 7s 131us/step - loss: 0.7258 - acc: 0.7443 - val_loss: 1.6373 - val_acc: 0.4978\n",
      "Epoch 38/50\n",
      "50000/50000 [==============================] - 7s 132us/step - loss: 0.7188 - acc: 0.7473 - val_loss: 1.7322 - val_acc: 0.4904\n",
      "Epoch 39/50\n",
      "50000/50000 [==============================] - 7s 134us/step - loss: 0.7056 - acc: 0.7518 - val_loss: 1.6002 - val_acc: 0.5030\n",
      "Epoch 40/50\n",
      "50000/50000 [==============================] - 7s 140us/step - loss: 0.6866 - acc: 0.7564 - val_loss: 1.6969 - val_acc: 0.5019\n",
      "Epoch 41/50\n",
      "50000/50000 [==============================] - 7s 138us/step - loss: 0.6632 - acc: 0.7663 - val_loss: 1.7325 - val_acc: 0.4957\n",
      "Epoch 42/50\n",
      "50000/50000 [==============================] - 7s 137us/step - loss: 0.6542 - acc: 0.7704 - val_loss: 1.6846 - val_acc: 0.5071\n",
      "Epoch 43/50\n",
      "50000/50000 [==============================] - 7s 139us/step - loss: 0.6316 - acc: 0.7790 - val_loss: 1.6562 - val_acc: 0.5146\n",
      "Epoch 44/50\n",
      "50000/50000 [==============================] - 7s 145us/step - loss: 0.6134 - acc: 0.7855 - val_loss: 1.7619 - val_acc: 0.4911\n",
      "Epoch 45/50\n",
      "50000/50000 [==============================] - 7s 136us/step - loss: 0.6032 - acc: 0.7887 - val_loss: 1.7459 - val_acc: 0.5039\n",
      "Epoch 46/50\n",
      "50000/50000 [==============================] - 7s 131us/step - loss: 0.5810 - acc: 0.7965 - val_loss: 1.7164 - val_acc: 0.5151\n",
      "Epoch 47/50\n",
      "50000/50000 [==============================] - 7s 131us/step - loss: 0.5751 - acc: 0.7995 - val_loss: 1.7793 - val_acc: 0.5084\n",
      "Epoch 48/50\n",
      "50000/50000 [==============================] - 7s 139us/step - loss: 0.5533 - acc: 0.8070 - val_loss: 1.7002 - val_acc: 0.5132\n",
      "Epoch 49/50\n",
      "50000/50000 [==============================] - 7s 132us/step - loss: 0.5345 - acc: 0.8135 - val_loss: 1.7326 - val_acc: 0.5147\n",
      "Epoch 50/50\n",
      "50000/50000 [==============================] - 7s 134us/step - loss: 0.5284 - acc: 0.8165 - val_loss: 1.8126 - val_acc: 0.5115\n"
     ]
    }
   ],
   "source": [
    "results = {}\n",
    "\"\"\"Code Here\n",
    "撰寫你的訓練流程並將結果用 dictionary 紀錄\n",
    "\"\"\"\n",
    "model = build_mlp(input_shape=x_train.shape[1:])\n",
    "model.summary()\n",
    "optimizer = keras.optimizers.SGD(lr=LEARNING_RATE, nesterov=True, momentum=MOMENTUM)\n",
    "model.compile(loss=\"categorical_crossentropy\", metrics=[\"accuracy\"], optimizer=optimizer)\n",
    "\n",
    "model.fit(x_train, y_train, \n",
    "          epochs=EPOCHS, \n",
    "          batch_size=BATCH_SIZE, \n",
    "          validation_data=(x_test, y_test), \n",
    "          shuffle=True)\n",
    "\n",
    "# Collect results\n",
    "train_loss = model.history.history[\"loss\"]\n",
    "valid_loss = model.history.history[\"val_loss\"]\n",
    "train_acc = model.history.history[\"acc\"]\n",
    "valid_acc = model.history.history[\"val_acc\"]"
   ]
  },
  {
   "cell_type": "code",
   "execution_count": 40,
   "metadata": {},
   "outputs": [
    {
     "data": {
      "image/png": "[encoded data removed]",
      "text/plain": [
       "<Figure size 432x288 with 1 Axes>"
      ]
     },
     "metadata": {
      "needs_background": "light"
     },
     "output_type": "display_data"
    },
    {
     "data": {
      "image/png": "[encoded data removed]",
      "text/plain": [
       "<Figure size 432x288 with 1 Axes>"
      ]
     },
     "metadata": {
      "needs_background": "light"
     },
     "output_type": "display_data"
    }
   ],
   "source": [
    "import matplotlib.pyplot as plt\n",
    "%matplotlib inline\n",
    "\n",
    "plt.plot(range(len(train_loss)), train_loss, label=\"train loss\")\n",
    "plt.plot(range(len(valid_loss)), valid_loss, label=\"valid loss\")\n",
    "plt.legend()\n",
    "plt.title(\"Loss\")\n",
    "plt.show()\n",
    "\n",
    "plt.plot(range(len(train_acc)), train_acc, label=\"train accuracy\")\n",
    "plt.plot(range(len(valid_acc)), valid_acc, label=\"valid accuracy\")\n",
    "plt.legend()\n",
    "plt.title(\"Accuracy\")\n",
    "plt.show()"
   ]
  },
  {
   "cell_type": "code",
   "execution_count": null,
   "metadata": {},
   "outputs": [],
   "source": []
  },
  {
   "cell_type": "code",
   "execution_count": null,
   "metadata": {},
   "outputs": [],
   "source": []
  }
 ],
 "metadata": {
  "kernelspec": {
   "display_name": "Python 3",
   "language": "python",
   "name": "python3"
  },
  "language_info": {
   "codemirror_mode": {
    "name": "ipython",
    "version": 3
   },
   "file_extension": ".py",
   "mimetype": "text/x-python",
   "name": "python",
   "nbconvert_exporter": "python",
   "pygments_lexer": "ipython3",
   "version": "3.7.3"
  }
 },
 "nbformat": 4,
 "nbformat_minor": 2
}
